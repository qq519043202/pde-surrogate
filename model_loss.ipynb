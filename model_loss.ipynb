{
 "cells": [
  {
   "cell_type": "code",
   "execution_count": null,
   "metadata": {},
   "outputs": [],
   "source": [
    "import torch\n",
    "import numpy as np\n",
    "import skimage\n",
    "import torch.nn as nn\n",
    "import torch.nn.functional as F\n",
    "from models.darcy import cc1\n",
    "from models.darcy import cc2\n",
    "from models.darcy import bc\n",
    "from utils.image_gradient import SobelFilter\n",
    "from FEA_simp import ComputeTarget\n",
    "\n",
    "device = torch.device(\"cuda\" if torch.cuda.is_available() else \"cpu\")"
   ]
  },
  {
   "cell_type": "code",
   "execution_count": null,
   "metadata": {},
   "outputs": [],
   "source": [
    "model = torch.load('experiments/codec/mixed_residual/debug/grf'\\\n",
    "            '_kle512_ntrain4010_run1_bs32_lr0.001_epochs5000/checkpoints/model_epoch5000.pth')\n",
    "\n",
    "data = np.loadtxt(\"data/rho20x40_SIMP_Edge.txt\", dtype=np.float32)\n",
    "# [bs, 1, 20, 40]\n",
    "data = data.reshape(-1,1,40,20).transpose([0,1,3,2])\n",
    "\n",
    "data_u = np.loadtxt(\"data/dis20x40_SIMP_Edge.txt\", dtype=np.float32)\n",
    "data_s = np.loadtxt(\"data/stress20x40_SIMP_Edge.txt\", dtype=np.float32)\n",
    "\n",
    "ref_u0 = torch.from_numpy(data_u).unsqueeze(1).to(device)\n",
    "ref_uy = ref_u0[:,:,range(1,1722,2)]\n",
    "ref_ux = ref_u0[:,:,range(0,1722,2)]\n",
    "ref_s0 = torch.from_numpy(data_s).unsqueeze(1).to(device)\n",
    "ref_sx = ref_s0[:,:,range(0,2583,3)]\n",
    "ref_sy = ref_s0[:,:,range(1,2583,3)]\n",
    "ref_sxy = ref_s0[:,:,range(2,2583,3)]\n",
    "# [bs, 5, 21, 41]\n",
    "ref = torch.cat([ref_ux, ref_uy, ref_sx, ref_sy, ref_sxy],1).view(-1,5,41,21).permute(0,1,3,2)\n",
    "\n",
    "input = torch.from_numpy(data).to(device)\n",
    "output = model(input)"
   ]
  },
  {
   "cell_type": "code",
   "execution_count": null,
   "metadata": {},
   "outputs": [],
   "source": [
    "sobel_filter = SobelFilter(64, correct=False, device=device)\n",
    "# post output\n",
    "WEIGHTS_2x2 = torch.FloatTensor( np.ones([1,1,2,2])/4 ).to(device)\n",
    "o0 = F.conv2d(output[:,[0]], WEIGHTS_2x2, stride=1, padding=0, bias=None)\n",
    "o1 = F.conv2d(output[:,[1]], WEIGHTS_2x2, stride=1, padding=0, bias=None) \n",
    "o2 = F.conv2d(output[:,[2]], WEIGHTS_2x2, stride=1, padding=0, bias=None) \n",
    "o3 = F.conv2d(output[:,[3]], WEIGHTS_2x2, stride=1, padding=0, bias=None) \n",
    "o4 = F.conv2d(output[:,[4]], WEIGHTS_2x2, stride=1, padding=0, bias=None) \n",
    "output_post = torch.cat([o0,o1,o2,o3,o4],1)\n",
    "print(output_post.shape)"
   ]
  },
  {
   "cell_type": "code",
   "execution_count": null,
   "metadata": {},
   "outputs": [],
   "source": [
    "print(cc2(output_post, sobel_filter))"
   ]
  },
  {
   "cell_type": "code",
   "execution_count": null,
   "metadata": {},
   "outputs": [],
   "source": [
    "print (cc1(input, output, output_post, sobel_filter, device))"
   ]
  },
  {
   "cell_type": "code",
   "execution_count": null,
   "metadata": {},
   "outputs": [],
   "source": [
    "loss_boundary = bc(output, output_post)\n",
    "print(loss_boundary)"
   ]
  },
  {
   "cell_type": "code",
   "execution_count": null,
   "metadata": {},
   "outputs": [],
   "source": [
    "# cc2 loss detail\n",
    "dsxdx = sobel_filter.grad_h(output_post[:, [2]])\n",
    "dsydy = sobel_filter.grad_v(output_post[:, [3]])\n",
    "dsxydx = sobel_filter.grad_h(output_post[:, [4]])\n",
    "dsxydy = sobel_filter.grad_v(output_post[:, [4]])\n",
    "\n",
    "ds = torch.cat([dsxdx+dsxydy, dsydy+dsxydx],1)"
   ]
  },
  {
   "cell_type": "code",
   "execution_count": null,
   "metadata": {},
   "outputs": [],
   "source": [
    "dsxdx.shape"
   ]
  },
  {
   "cell_type": "code",
   "execution_count": null,
   "metadata": {},
   "outputs": [],
   "source": [
    "print(dsxdx[0,0,:,-2])"
   ]
  },
  {
   "cell_type": "code",
   "execution_count": null,
   "metadata": {},
   "outputs": [],
   "source": [
    "dsxdx.mean([0])"
   ]
  },
  {
   "cell_type": "code",
   "execution_count": null,
   "metadata": {},
   "outputs": [],
   "source": [
    "output[:, [2]].mean([0])"
   ]
  },
  {
   "cell_type": "code",
   "execution_count": null,
   "metadata": {},
   "outputs": [],
   "source": [
    "output_post[:, [2]].mean([0])"
   ]
  },
  {
   "cell_type": "code",
   "execution_count": null,
   "metadata": {},
   "outputs": [],
   "source": []
  }
 ],
 "metadata": {
  "kernelspec": {
   "display_name": "Python 3",
   "language": "python",
   "name": "python3"
  },
  "language_info": {
   "codemirror_mode": {
    "name": "ipython",
    "version": 3
   },
   "file_extension": ".py",
   "mimetype": "text/x-python",
   "name": "python",
   "nbconvert_exporter": "python",
   "pygments_lexer": "ipython3",
   "version": "3.6.8"
  }
 },
 "nbformat": 4,
 "nbformat_minor": 2
}
